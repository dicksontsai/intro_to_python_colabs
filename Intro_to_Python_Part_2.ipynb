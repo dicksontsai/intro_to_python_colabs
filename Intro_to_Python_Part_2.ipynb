{
  "nbformat": 4,
  "nbformat_minor": 0,
  "metadata": {
    "colab": {
      "name": "Intro to Python Part 2",
      "provenance": [],
      "authorship_tag": "ABX9TyNhcys/MsFB3l2Drcu9jxJr",
      "include_colab_link": true
    },
    "kernelspec": {
      "name": "python3",
      "display_name": "Python 3"
    },
    "language_info": {
      "name": "python"
    }
  },
  "cells": [
    {
      "cell_type": "markdown",
      "metadata": {
        "id": "view-in-github",
        "colab_type": "text"
      },
      "source": [
        "<a href=\"https://colab.research.google.com/github/dicksontsai/intro_to_python_colabs/blob/main/Intro_to_Python_Part_2.ipynb\" target=\"_parent\"><img src=\"https://colab.research.google.com/assets/colab-badge.svg\" alt=\"Open In Colab\"/></a>"
      ]
    },
    {
      "cell_type": "markdown",
      "metadata": {
        "id": "GxW94Dlnu2x8"
      },
      "source": [
        "# Intro to Python with Google Colab (Part 2)\n",
        "\n",
        "by Dickson Tsai\n",
        "\n",
        "The target audience is high schoolers completely new to programming but have gone through [Part 1](https://colab.research.google.com/drive/1cufid_EX4qzz9tKMQqGcxX2mJ_42PmFo#scrollTo=8PB07imLL9gz)."
      ]
    },
    {
      "cell_type": "markdown",
      "metadata": {
        "id": "8oLr0g3yuvTL"
      },
      "source": [
        "In this tutorial, we will cover:\n",
        "* List comprehensions\n",
        "* Dictionaries\n",
        "  - Example application: JSON\n",
        "* Classes\n",
        "  - Example application: Trees\n",
        "* While loops\n",
        "* Higher-order functions (functions that take in/return functions)\n",
        "* Recursion\n",
        "  - Example application: Your first programming interview question!\n",
        "\n",
        "We will not cover anything new from numpy or Matplotlib. They will be in separate parts."
      ]
    },
    {
      "cell_type": "markdown",
      "metadata": {
        "id": "JarU3i1zwncb"
      },
      "source": [
        "## List Comprehensions"
      ]
    },
    {
      "cell_type": "markdown",
      "metadata": {
        "id": "XCIUqkn5wtff"
      },
      "source": [
        "Let's review some concepts we learned in the last part. Here, we make a list that contains the square of the numbers in `nums`."
      ]
    },
    {
      "cell_type": "code",
      "metadata": {
        "id": "oYmNJ05LwrTY"
      },
      "source": [
        "nums = [0, 1, 2, 3, 4]\n",
        "squares = []\n",
        "for x in nums:\n",
        "    squares.append(x ** 2)\n",
        "print(squares)"
      ],
      "execution_count": null,
      "outputs": []
    },
    {
      "cell_type": "markdown",
      "metadata": {
        "id": "ma_HPHsKw-CE"
      },
      "source": [
        "When programming, we often want to convert one list into another. Python provides the **list comprehension** pattern to simplify this:\n",
        "\n",
        "```\n",
        "[<expr> for <elem> in <original_list>]\n",
        "```\n",
        "\n",
        "For example, we can write the above as:"
      ]
    },
    {
      "cell_type": "code",
      "metadata": {
        "id": "WkrFFv62xKpk"
      },
      "source": [
        "squares_2 = [x ** 2 for x in nums]\n",
        "print(squares, squares2)"
      ],
      "execution_count": null,
      "outputs": []
    },
    {
      "cell_type": "markdown",
      "metadata": {
        "id": "I08fJTx8xeA7"
      },
      "source": [
        "You can also decide which elements not to include in your list comprehension:\n",
        "\n",
        "```\n",
        "[<expr> for <elem> in <original_list> if <cond>]\n",
        "```"
      ]
    },
    {
      "cell_type": "code",
      "metadata": {
        "id": "LEndr0vixqUg"
      },
      "source": [
        "even_squares = [x ** 2 for x in nums if x % 2 == 0]\n",
        "print(even_squares)"
      ],
      "execution_count": null,
      "outputs": []
    },
    {
      "cell_type": "markdown",
      "metadata": {
        "id": "0lHllkxszN-M"
      },
      "source": [
        "## Dictionaries"
      ]
    },
    {
      "cell_type": "markdown",
      "metadata": {
        "id": "ru7SgQlrzP67"
      },
      "source": [
        "A **dictionary** stores (key, value) pairs. You can use it like this:"
      ]
    },
    {
      "cell_type": "markdown",
      "metadata": {
        "id": "ShHL5_h-zTv-"
      },
      "source": [
        "d = {'cat': 'cute', 'dog': 'furry'}"
      ]
    },
    {
      "cell_type": "markdown",
      "metadata": {
        "id": "kzrs5sc6zWvJ"
      },
      "source": [
        "To get a value from your dictionary, use the same `[]` from lists, but put in your key this time."
      ]
    },
    {
      "cell_type": "code",
      "metadata": {
        "id": "JFm-8gVDzf0V"
      },
      "source": [
        "print(d['cat'])\n",
        "print('cat' in d)"
      ],
      "execution_count": null,
      "outputs": []
    },
    {
      "cell_type": "code",
      "metadata": {
        "id": "V7lw45WM0Uk4"
      },
      "source": [
        "d['fish'] = 'wet'    # Set an entry in a dictionary\n",
        "print(d['fish'])      # Prints \"wet\""
      ],
      "execution_count": null,
      "outputs": []
    },
    {
      "cell_type": "code",
      "metadata": {
        "id": "4Y6H62La0WJY"
      },
      "source": [
        "print(d['monkey'])  # KeyError: 'monkey' not a key of d"
      ],
      "execution_count": null,
      "outputs": []
    },
    {
      "cell_type": "code",
      "metadata": {
        "id": "68F7VTFY0Xha"
      },
      "source": [
        "print(d.get('monkey', 'N/A'))  # Get an element with a default; prints \"N/A\"\n",
        "print(d.get('fish', 'N/A'))    # Get an element with a default; prints \"wet\""
      ],
      "execution_count": null,
      "outputs": []
    },
    {
      "cell_type": "code",
      "metadata": {
        "id": "eLvdZYIX0Zf7"
      },
      "source": [
        "del d['fish']        # Remove an element from a dictionary\n",
        "print(d.get('fish', 'N/A')) # \"fish\" is no longer a key; prints \"N/A\""
      ],
      "execution_count": null,
      "outputs": []
    },
    {
      "cell_type": "markdown",
      "metadata": {
        "id": "3IyCK3yF0gJ2"
      },
      "source": [
        "You can find all you need to know about dictionaries in the [documentation](https://docs.python.org/3/library/stdtypes.html#dict)."
      ]
    },
    {
      "cell_type": "markdown",
      "metadata": {
        "id": "UTYcaiLQ0ph9"
      },
      "source": [
        "It is easy to iterate over the `.keys()`, `.values()`, or `.items()` of a dictionary. Note that dictionaries do NOT preserve the order of your items."
      ]
    },
    {
      "cell_type": "code",
      "metadata": {
        "id": "KY5eYQ-O0nPX"
      },
      "source": [
        "d = {'person': 2, 'cat': 4, 'spider': 8}\n",
        "for animal, legs in d.items():\n",
        "    print('A {} has {} legs'.format(animal, legs))"
      ],
      "execution_count": null,
      "outputs": []
    },
    {
      "cell_type": "markdown",
      "metadata": {
        "id": "ip7aLwxh04zX"
      },
      "source": [
        "Dictionary comprehensions: These are similar to list comprehensions, but allow you to easily construct dictionaries. For example:"
      ]
    },
    {
      "cell_type": "code",
      "metadata": {
        "id": "YWlAc-PL07YM"
      },
      "source": [
        "nums = [0, 1, 2, 3, 4]\n",
        "even_num_to_square = {x: x ** 2 for x in nums if x % 2 == 0}\n",
        "print(even_num_to_square)"
      ],
      "execution_count": null,
      "outputs": []
    },
    {
      "cell_type": "markdown",
      "metadata": {
        "id": "D8_xFt2kaqG-"
      },
      "source": [
        "### Example Application: JSON"
      ]
    },
    {
      "cell_type": "markdown",
      "metadata": {
        "id": "h6fNuUvHbYIg"
      },
      "source": [
        "JSON (JavaScript Object Notation) is a simple standard for exchanging data. Many institutions such as the World Bank offer data for free\\* (free when your usage is reasonable) in JSON format. Here, we will explore the US population from 1960 to 2019.\n",
        "\n",
        "First, we will use the requests library to make a request to World Bank's web\n",
        "server for the data."
      ]
    },
    {
      "cell_type": "code",
      "metadata": {
        "id": "6n-um4fGbrnM"
      },
      "source": [
        "# Make sure to run this only once.\n",
        "import requests\n",
        "\n",
        "response = requests.get(\"http://api.worldbank.org/v2/countries/USA/indicators/SP.POP.TOTL?per_page=5000&format=json\")"
      ],
      "execution_count": null,
      "outputs": []
    },
    {
      "cell_type": "markdown",
      "metadata": {
        "id": "BR5dxdKbjl0F"
      },
      "source": [
        "Then, let's examine the JSON data."
      ]
    },
    {
      "cell_type": "code",
      "metadata": {
        "id": "KD52Y92zcLO1"
      },
      "source": [
        "response.json()"
      ],
      "execution_count": null,
      "outputs": []
    },
    {
      "cell_type": "markdown",
      "metadata": {
        "id": "pVIbYUX6jzCG"
      },
      "source": [
        "It seems like the data is a list where the first element is just metadata about the dataset and the second element is another list with the actual population data. Let's extract that part."
      ]
    },
    {
      "cell_type": "code",
      "metadata": {
        "id": "Lfm4U2iqj_zB"
      },
      "source": [
        "pop_data = response.json()[1]"
      ],
      "execution_count": null,
      "outputs": []
    },
    {
      "cell_type": "markdown",
      "metadata": {
        "id": "uzNMEAGmkHmk"
      },
      "source": [
        "Then, we simply care about the years (from the 'date' field) and the numbers (from the 'value' field). Try doing this yourself, then see my solution below."
      ]
    },
    {
      "cell_type": "code",
      "metadata": {
        "id": "c8s8ZqSxkXXJ"
      },
      "source": [
        "years = [record['date'] for record in pop_data]\n",
        "pop = [record['value'] for record in pop_data]\n",
        "print(years[:5], pop[:5])"
      ],
      "execution_count": null,
      "outputs": []
    },
    {
      "cell_type": "markdown",
      "metadata": {
        "id": "VI8iK6Ctk9QP"
      },
      "source": [
        "Now, let's plot this data!"
      ]
    },
    {
      "cell_type": "code",
      "metadata": {
        "id": "J___Oawgk4yU"
      },
      "source": [
        "import numpy as np\n",
        "import matplotlib.pyplot as plt\n",
        "%matplotlib inline"
      ],
      "execution_count": null,
      "outputs": []
    },
    {
      "cell_type": "code",
      "metadata": {
        "id": "B3eQOr0olLIc"
      },
      "source": [
        "# Recall that Numpy arrays are easier to work with than Python lists for data.\n",
        "years_arr = np.array(years)\n",
        "pop_arr = np.array(pop)\n",
        "# Years is not in sorted order. We can find the indexes that sorts the years.\n",
        "sorted_year_idxs = np.argsort(years_arr)\n",
        "# Then sort both arrays by the indexes.\n",
        "plt.plot(years_arr[sorted_year_idxs], pop_arr[sorted_year_idxs])\n",
        "plt.xlabel('Year')\n",
        "# Only show ticks every 5 years.\n",
        "plt.xticks(np.arange(0, len(pop_arr), 5))\n",
        "plt.ylabel('Population')\n",
        "plt.title('US Population')"
      ],
      "execution_count": null,
      "outputs": []
    },
    {
      "cell_type": "markdown",
      "metadata": {
        "id": "qYteHu2col4E"
      },
      "source": [
        "For more JSON datasets, check out Justin Dorfman's [curated list on Github](https://github.com/jdorfman/awesome-json-datasets)."
      ]
    },
    {
      "cell_type": "markdown",
      "metadata": {
        "id": "4TzloUnI1MNG"
      },
      "source": [
        "## Classes"
      ]
    },
    {
      "cell_type": "markdown",
      "metadata": {
        "id": "VyZ-TmEcqQRM"
      },
      "source": [
        "So far, we have seen many types of data:\n",
        "* int\n",
        "* string\n",
        "* bool\n",
        "* list\n",
        "* dict\n",
        "* ...\n",
        "\n",
        "Everything in Python is an object of a particular type. You can use the built-in `type()` function to determine the type of the object.\n",
        "\n",
        "Objects not only *store* some data but also have *special* code for handling its data based on their type. This \"special code\" belonging to the type are known as **methods**.\n",
        "\n",
        "type | data stored | methods\n",
        "-----|-------------|--------------------\n",
        "int  | an integer  |\n",
        "string| characters | .upper(), .lower(), ...\n",
        "list | elements | .append(), .pop(), ...\n"
      ]
    },
    {
      "cell_type": "markdown",
      "metadata": {
        "id": "QL1eDa32vNvt"
      },
      "source": [
        "What if you wanted to define your own types? This is where the `class` keyword comes in."
      ]
    },
    {
      "cell_type": "markdown",
      "metadata": {
        "id": "t7q0DjMx5bQ_"
      },
      "source": [
        "A **class** is a blueprint for producing a certain type of object. In fact, classes are often used to represent the type of the object they produce. For example, an object produced by `class Car` has type `Car`.\n",
        "\n",
        "Below is an example class definition. A class definition consists of:\n",
        "\n",
        "1. The `class` keyword.\n",
        "1. The name of the class.\n",
        "1. An `__init__` function to \"initialize\" a new instance. This means populating the minimum data necessary for the object to make sense. For example, a `Car` object needs to know its make and model.\n",
        "  - `self` is a reference to the new instance you're creating.\n",
        "1. Methods. Each method takes in `self` as a parameter, which refers to the instance that the method is called on."
      ]
    },
    {
      "cell_type": "code",
      "metadata": {
        "id": "BYZOA9_bpHOr"
      },
      "source": [
        "class Car:\n",
        "  def __init__(self, make, model):\n",
        "    self.make = make\n",
        "    self.model = model\n",
        "    self.gas_tank = 0\n",
        "  \n",
        "  def fill_gas(self):\n",
        "    # Assume the gas tank can store 20 gallons.\n",
        "    self.gas_tank = 20\n",
        "\n",
        "  def drive(self, miles):\n",
        "    # Assume the car drives 30 miles per gallon.\n",
        "    self.gas_tank = self.gas_tank - miles / 30"
      ],
      "execution_count": null,
      "outputs": []
    },
    {
      "cell_type": "markdown",
      "metadata": {
        "id": "ev2cD4YCp0dY"
      },
      "source": [
        "To create an **instance** of a `Car` from our blueprint, call `Car()` with the required arguments. Each call to `Car()` creates a different object, each managing its own data."
      ]
    },
    {
      "cell_type": "code",
      "metadata": {
        "id": "a6QsFfZ9p5pK"
      },
      "source": [
        "my_car = Car(\"Toyota\", \"Camry\")\n",
        "your_car = Car(\"Ford\", \"F150\")\n",
        "my_car.fill_gas()\n",
        "print(my_car.gas_tank, your_car.gas_tank)\n",
        "print(my_car.make, your_car.make)"
      ],
      "execution_count": null,
      "outputs": []
    },
    {
      "cell_type": "markdown",
      "metadata": {
        "id": "lSM_xK5QwmWH"
      },
      "source": [
        "Classes are so useful as an **organizational** tool for your programs. If you are very disciplined about the types you work with, you will find code easy to write and organize."
      ]
    },
    {
      "cell_type": "markdown",
      "metadata": {
        "id": "kTBM3sEXTgKL"
      },
      "source": [
        "### Exercise: Credit Card Class"
      ]
    },
    {
      "cell_type": "markdown",
      "metadata": {
        "id": "7AcHg7f5TjxP"
      },
      "source": [
        "In this exercise, we will design a class to model a credit card.\n",
        "\n",
        "Here is what your `CreditCard` class should support:\n",
        "\n",
        "method   |    description\n",
        "---------|-------------------\n",
        "`__init__(self, interest_rate, credit_limit)` | You're provided an `interest_rate` and `credit_limit`\n",
        "`charge(self, purchase_cost)` | Add a charge to the card. Return true if successful, or false if the charge will exceed the user's credit limit.\n",
        "`pay(self, payment)` | Accept a payment from the user. If the payment exceeds the current balance, return the excess money to the user. (How would you handle negative input?)\n"
      ]
    },
    {
      "cell_type": "markdown",
      "metadata": {
        "id": "a0sBZPfOVlXx"
      },
      "source": [
        "#### Solution\n",
        "\n",
        "While not explicitly specified in the problem statement, you'll need to keep track of the credit card balance yourself."
      ]
    },
    {
      "cell_type": "code",
      "metadata": {
        "id": "HOS0LY4iVjNc"
      },
      "source": [
        "class CreditCard:\n",
        "  def __init__(self, interest_rate, credit_limit):\n",
        "    self.interest_rate = interest_rate\n",
        "    self.credit_limit = credit_limit\n",
        "    self.balance = 0\n",
        "\n",
        "  def charge(self, purchase_cost):\n",
        "    if purchase_cost + self.balance > self.credit_limit:\n",
        "      return False\n",
        "    self.balance += purchase_cost\n",
        "    return True\n",
        "\n",
        "  def pay(self, payment):\n",
        "    if payment <= 0:\n",
        "      return 0\n",
        "    actual_payment = min(self.balance, payment)\n",
        "    self.balance = self.balance - actual_payment\n",
        "    return payment - actual_payment\n",
        "\n",
        "cc = CreditCard(0.23, 5000)\n",
        "print(cc.charge(500))\n",
        "print(cc.charge(10000))\n",
        "print(cc.balance)\n",
        "print(cc.pay(20))\n",
        "print(cc.balance)\n",
        "print(cc.pay(700))\n",
        "print(cc.balance)"
      ],
      "execution_count": null,
      "outputs": []
    },
    {
      "cell_type": "markdown",
      "metadata": {
        "id": "TM2Hfycf1lf9"
      },
      "source": [
        "## While Loops"
      ]
    },
    {
      "cell_type": "markdown",
      "metadata": {
        "id": "3qkk87OE2TnN"
      },
      "source": [
        "Use the `while` keyword to execute a piece of code over and over again **while** a certain condition is true:\n",
        "```\n",
        "while <cond is true>:\n",
        "    <execute this code>\n",
        "```"
      ]
    },
    {
      "cell_type": "code",
      "metadata": {
        "id": "gj1_JPES2m6s"
      },
      "source": [
        "i = 0\n",
        "while i < 5:\n",
        "  print(i)\n",
        "  i += 1"
      ],
      "execution_count": null,
      "outputs": []
    },
    {
      "cell_type": "markdown",
      "metadata": {
        "id": "ceu9ZfM32reB"
      },
      "source": [
        "You may be wondering why it has taken this long to cover `while` loops. It seems so basic! Well, it is also extremely **error-prone**. Remember to update your variable in the condition. Otherwise, your program will enter an \"infinite loop\", where it never stops until the operating system steps in and stops your program."
      ]
    },
    {
      "cell_type": "markdown",
      "metadata": {
        "id": "cm5VFGeG1WBC"
      },
      "source": [
        "## Recursion"
      ]
    },
    {
      "cell_type": "markdown",
      "metadata": {
        "id": "RTAdgjSU4OIQ"
      },
      "source": [
        "Recursion is where you call the same function within itself.\n",
        "\n",
        "Of course, your recursive code must stop at some point. Here are the key ingredients for your recursive function:\n",
        "\n",
        "1. Base case(s): Cases so trivial that you just return a specific value.\n",
        "1. Recursive call(s): Calls to the same function. Generally, your recursive calls should \"work towards\" your base cases.\n",
        "\n",
        "Here's a classic example: The factorial function."
      ]
    },
    {
      "cell_type": "code",
      "metadata": {
        "id": "HrPK11aD4YQE"
      },
      "source": [
        "def factorial(x):\n",
        "  if x == 0:\n",
        "    return 1\n",
        "  return x * factorial(x-1)\n",
        "\n",
        "print(factorial(4))"
      ],
      "execution_count": null,
      "outputs": []
    },
    {
      "cell_type": "markdown",
      "metadata": {
        "id": "udbXkx_56KZe"
      },
      "source": [
        "* Base case: If x = 0, then by definition, 0! is 1.\n",
        "* Recursive call: 4! = 4 \\* 3 \\* 2 \\* 1. Notice how the second part is simply 3!. Thus, you can say 4! = 4 * 3!.\n",
        "  - 3! is \"working towards\" the base case of 0!."
      ]
    },
    {
      "cell_type": "markdown",
      "metadata": {
        "id": "ATU0yAHa1tgi"
      },
      "source": [
        "### Example Application: Your First Programming Interview Question"
      ]
    },
    {
      "cell_type": "markdown",
      "metadata": {
        "id": "5DOSsM1Qx4Ak"
      },
      "source": [
        "Companies use programming interview questions to assess a candidate's programming ability. [Leetcode](https://leetcode.com) is a website that hosts a rich set of programming interview questions.\n",
        "\n",
        "To give you a taste of what these questions are like, let's go through the problem [\"Number of Islands\"](https://leetcode.com/problems/number-of-islands/) together. "
      ]
    },
    {
      "cell_type": "markdown",
      "metadata": {
        "id": "0lTb_A2Eyrho"
      },
      "source": [
        "Example 1:\n",
        "```\n",
        "Input: grid = [\n",
        "  [\"1\",\"1\",\"1\",\"1\",\"0\"],\n",
        "  [\"1\",\"1\",\"0\",\"1\",\"0\"],\n",
        "  [\"1\",\"1\",\"0\",\"0\",\"0\"],\n",
        "  [\"0\",\"0\",\"0\",\"0\",\"0\"]\n",
        "]\n",
        "Output: 1\n",
        "```\n",
        "Example 2:\n",
        "```\n",
        "Input: grid = [\n",
        "  [\"1\",\"1\",\"0\",\"0\",\"0\"],\n",
        "  [\"1\",\"1\",\"0\",\"0\",\"0\"],\n",
        "  [\"0\",\"0\",\"1\",\"0\",\"0\"],\n",
        "  [\"0\",\"0\",\"0\",\"1\",\"1\"]\n",
        "]\n",
        "Output: 3\n",
        "```"
      ]
    },
    {
      "cell_type": "markdown",
      "metadata": {
        "id": "nT3PWeBqYJra"
      },
      "source": [
        "#### Solution\n",
        "\n",
        "The basic idea is to count each island once and ensure that you don't count the same island again. This involves keeping track of which coordinates you have already visited. When you land on an island, you will explore the entire island and mark all of its coordinates as visited. This exploration is naturally expressed as a recursive call -- just make sure your base cases cover all bases."
      ]
    },
    {
      "cell_type": "code",
      "metadata": {
        "id": "8Y5R97SdYMX-"
      },
      "source": [
        "def number_of_islands(grid):\n",
        "  visited = [[False for _ in row] for row in grid]\n",
        "  x_len = len(grid)\n",
        "  if x_len == 0:\n",
        "    return 0\n",
        "  y_len = len(grid[0])\n",
        "\n",
        "  # This solution has one small inefficiency. What's one way of speeding it up?\n",
        "  # Hint: Consider what the stack will look like when this code is run.\n",
        "  def explore(x, y):\n",
        "    # Base case: Out of bounds\n",
        "    if x < 0 or x >= x_len:\n",
        "      return\n",
        "    if y < 0 or y >= y_len:\n",
        "      return \n",
        "    # Base case: Already visited\n",
        "    if visited[x][y]:\n",
        "      return\n",
        "    visited[x][y] = True\n",
        "    if grid[x][y] == \"1\":\n",
        "      explore(x-1, y)\n",
        "      explore(x, y-1)\n",
        "      explore(x+1, y)\n",
        "      explore(x, y+1)\n",
        "\n",
        "  num_islands = 0\n",
        "  for x in range(x_len):\n",
        "    for y in range(y_len):\n",
        "      if grid[x][y] == \"1\" and not visited[x][y]:\n",
        "        num_islands += 1\n",
        "        explore(x, y)\n",
        "  \n",
        "  return num_islands\n",
        "\n",
        "print(number_of_islands(\n",
        "  [\n",
        "    [\"1\",\"1\",\"1\",\"1\",\"0\"],\n",
        "    [\"1\",\"1\",\"0\",\"1\",\"0\"],\n",
        "    [\"1\",\"1\",\"0\",\"0\",\"0\"],\n",
        "    [\"0\",\"0\",\"0\",\"0\",\"0\"]\n",
        "  ]\n",
        "))\n",
        "print(number_of_islands(\n",
        "  [\n",
        "    [\"1\",\"1\",\"0\",\"0\",\"0\"],\n",
        "    [\"1\",\"1\",\"0\",\"0\",\"0\"],\n",
        "    [\"0\",\"0\",\"1\",\"0\",\"0\"],\n",
        "    [\"0\",\"0\",\"0\",\"1\",\"1\"]\n",
        "  ]\n",
        "))"
      ],
      "execution_count": null,
      "outputs": []
    },
    {
      "cell_type": "markdown",
      "metadata": {
        "id": "ZxVostq0y7sO"
      },
      "source": [
        "### Example Application: Trees"
      ]
    },
    {
      "cell_type": "markdown",
      "metadata": {
        "id": "qsxXy1nUQ0rC"
      },
      "source": [
        "Trees are a widely used **abstract data type**, a data type that is a general pattern of many possible data types, that represents hierarchical information.\n",
        "\n",
        "Below is an example of a simple tree class."
      ]
    },
    {
      "cell_type": "code",
      "metadata": {
        "id": "oX3JsE29RlCV"
      },
      "source": [
        "class Tree:\n",
        "  def __init__(self, val, children=[]):\n",
        "    self.val = val\n",
        "    self.children = children\n",
        "\n",
        "  def __str__(self):\n",
        "    return \"({} [{}])\".format(self.val, \" \".join([str(child) for child in self.children]))"
      ],
      "execution_count": null,
      "outputs": []
    },
    {
      "cell_type": "code",
      "metadata": {
        "id": "V5L311XwSajE"
      },
      "source": [
        "a = Tree(1, [Tree(2, [Tree(3), Tree(4)]), Tree(5)])\n",
        "print(a)"
      ],
      "execution_count": null,
      "outputs": []
    },
    {
      "cell_type": "markdown",
      "metadata": {
        "id": "sY8ZjevR1R9r"
      },
      "source": [
        "## Higher Order Functions"
      ]
    },
    {
      "cell_type": "markdown",
      "metadata": {
        "id": "k3gHZE6W3TWa"
      },
      "source": [
        "Functions can be treated a values themselves. That means functions can be the arguments or return values of other functions!"
      ]
    },
    {
      "cell_type": "markdown",
      "metadata": {
        "id": "ipmMchyt36mX"
      },
      "source": [
        "### Functions as input"
      ]
    },
    {
      "cell_type": "code",
      "metadata": {
        "id": "-k6VSBaT3eHh"
      },
      "source": [
        "def filter_list(lst, filter_fn):\n",
        "  return [elem for elem in lst if filter_fn(elem)]\n",
        "\n",
        "def is_even(x):\n",
        "  return x % 2 == 0\n",
        "\n",
        "def is_large(x):\n",
        "  return x > 5\n",
        "\n",
        "print(filter_list([1, 2, 3, 4, 5], is_even))\n",
        "print(filter_list([1, 100, 2, 200], is_large))"
      ],
      "execution_count": null,
      "outputs": []
    },
    {
      "cell_type": "markdown",
      "metadata": {
        "id": "csakC2VM3_ys"
      },
      "source": [
        "### Functions defined in other functions"
      ]
    },
    {
      "cell_type": "code",
      "metadata": {
        "id": "XiK-Vkhn4fam"
      },
      "source": [
        "def lookup_func_for_table(table):\n",
        "  # This inner function has access to everything from the outer function.\n",
        "  def lookup(key):\n",
        "    return table(key)\n",
        "  return lookup\n",
        "\n",
        "lookup_for_age = lookup_func_for_table({\n",
        "    'Alex': 10,\n",
        "    'Brianne': 5,\n",
        "    'Cameron': 8,\n",
        "})\n",
        "print(lookup_for_age('Alex'))"
      ],
      "execution_count": null,
      "outputs": []
    },
    {
      "cell_type": "markdown",
      "metadata": {
        "id": "WqVjChvjcwhq"
      },
      "source": [
        "## Conclusion"
      ]
    },
    {
      "cell_type": "markdown",
      "metadata": {
        "id": "kZINGmdPcyH6"
      },
      "source": [
        "Congratulations on making it this far! At this point, you should have a lot of the basics under your belt, though there's always more to learn!\n",
        "\n",
        "Next steps:\n",
        "\n",
        "* Learn how to run Python on your own computer.\n",
        "  - Learn how to edit files using an IDE (e.g. VSCode) or text editor (e.g. Vim).\n",
        "* Discover project ideas online. Online courses and college courses are a great place to start.\n",
        "* Build your own project and scripts.\n",
        "  - One script I use is to print out every day of the month in a format like `(Mon) 2021/03/21` to paste in my Google Docs diary.\n",
        "* Learn about algorithms and runtime complexity to write more efficient code.\n",
        "  - Tackle more programming interview questions."
      ]
    },
    {
      "cell_type": "code",
      "metadata": {
        "id": "AVpBkkNOd8TH"
      },
      "source": [
        ""
      ],
      "execution_count": null,
      "outputs": []
    }
  ]
}