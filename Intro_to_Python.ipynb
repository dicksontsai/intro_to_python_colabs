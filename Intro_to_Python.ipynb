{
  "nbformat": 4,
  "nbformat_minor": 0,
  "metadata": {
    "colab": {
      "name": "Intro to Python",
      "provenance": [],
      "collapsed_sections": [],
      "include_colab_link": true
    },
    "kernelspec": {
      "display_name": "Python 3",
      "language": "python",
      "name": "python3"
    },
    "language_info": {
      "codemirror_mode": {
        "name": "ipython",
        "version": 3
      },
      "file_extension": ".py",
      "mimetype": "text/x-python",
      "name": "python",
      "nbconvert_exporter": "python",
      "pygments_lexer": "ipython3",
      "version": "3.7.6"
    }
  },
  "cells": [
    {
      "cell_type": "markdown",
      "metadata": {
        "id": "view-in-github",
        "colab_type": "text"
      },
      "source": [
        "<a href=\"https://colab.research.google.com/github/dicksontsai/intro_to_python_colabs/blob/main/Intro_to_Python.ipynb\" target=\"_parent\"><img src=\"https://colab.research.google.com/assets/colab-badge.svg\" alt=\"Open In Colab\"/></a>"
      ]
    },
    {
      "cell_type": "markdown",
      "metadata": {
        "id": "dzNng6vCL9eP"
      },
      "source": [
        "# Intro to Python with Google Colab\n"
      ]
    },
    {
      "cell_type": "markdown",
      "metadata": {
        "id": "0vJLt3JRL9eR"
      },
      "source": [
        "This tutorial is adapted by Dickson Tsai from Stanford CS231N's [Colab Tutorial](https://colab.research.google.com/github/cs231n/cs231n.github.io/blob/master/python-colab.ipynb) written by [Justin Johnson](https://web.eecs.umich.edu/~justincj/) and Kevin Zakka.\n",
        "\n",
        "The target audience is high schoolers completely new to programming."
      ]
    },
    {
      "cell_type": "markdown",
      "metadata": {
        "id": "U1PvreR9L9eW"
      },
      "source": [
        "In this tutorial, we will cover:\n",
        "\n",
        "* Basic Python: Basic data types (built-in, containers) and statements (function, if, for).\n",
        "* Numpy: Arrays, Array math\n",
        "* Matplotlib: Plotting, Subplots"
      ]
    },
    {
      "cell_type": "markdown",
      "metadata": {
        "id": "JAFKYgrpL9eY"
      },
      "source": [
        "##Basics of Python"
      ]
    },
    {
      "cell_type": "markdown",
      "metadata": {
        "id": "RbFS6tdgL9ea"
      },
      "source": [
        "Python is a high-level, dynamically typed programming language. Python code is often said to be almost like pseudocode, since it allows you to express very powerful ideas in very few lines of code while being very readable. As an example, here is an implementation of computing the nth Fibonacci number in Python."
      ]
    },
    {
      "cell_type": "markdown",
      "metadata": {
        "id": "tLFDeqW5bfzw"
      },
      "source": [
        "Below is a code block. To run it, click the play button on the left or press Shift+Enter. Colab will always print the value of the last line automatically."
      ]
    },
    {
      "cell_type": "code",
      "metadata": {
        "id": "cYb0pjh1L9eb"
      },
      "source": [
        "def fibonacci(n: int) -> int:\n",
        "    if n == 0:\n",
        "      return 0\n",
        "    if n == 1:\n",
        "      return 1\n",
        "    return fibonacci(n-1) + fibonacci(n-2)\n",
        "    \n",
        "[fibonacci(i) for i in range(10)]"
      ],
      "execution_count": null,
      "outputs": []
    },
    {
      "cell_type": "markdown",
      "metadata": {
        "id": "NwS_hu4xL9eo"
      },
      "source": [
        "### Basic Data Types\n",
        "\n",
        "Programming is about commanding computers to process data. Data can come in various **types**, such as numbers, text, lists, and even custom types (e.g. you can define a `Student` type that combines \"age\" and \"name\").\n",
        "\n",
        "Before we learn how to process data, we should master data types."
      ]
    },
    {
      "cell_type": "markdown",
      "metadata": {
        "id": "DL5sMSZ9L9eq"
      },
      "source": [
        "####Numbers"
      ]
    },
    {
      "cell_type": "markdown",
      "metadata": {
        "id": "jKP9gkj7hQm_"
      },
      "source": [
        "Python supports integers, decimal numbers (\"float\"s), and even complex numbers. It supports basic operations on those numbers."
      ]
    },
    {
      "cell_type": "code",
      "metadata": {
        "id": "gqXeAnhshhaw"
      },
      "source": [
        "2000 + 21.5"
      ],
      "execution_count": null,
      "outputs": []
    },
    {
      "cell_type": "code",
      "metadata": {
        "id": "YeETKgmUkoKF"
      },
      "source": [
        "print(10 + 6)\n",
        "print(10 - 6)\n",
        "print(10 * 6)\n",
        "print(10 / 6)\n",
        "print(10 // 6) # Note: This is floor divide. \"Cut off the decimal part\"\n",
        "print(10 % 6) # \"Modulo\"/remainder"
      ],
      "execution_count": null,
      "outputs": []
    },
    {
      "cell_type": "markdown",
      "metadata": {
        "id": "Te6IV5gMx-lU"
      },
      "source": [
        "##### Exercises\n",
        "1. What is the remainder when dividing 1234321 by 7?"
      ]
    },
    {
      "cell_type": "markdown",
      "metadata": {
        "id": "1qj9Sw31xzMf"
      },
      "source": [
        "#### Variables (assignment statement)"
      ]
    },
    {
      "cell_type": "markdown",
      "metadata": {
        "id": "MGS0XEWoL9er"
      },
      "source": [
        "In Python, you can store information using variables. The syntax for that is:\n",
        "\n",
        "```\n",
        "variable_name = <value you want to store>\n",
        "```\n",
        "\n",
        "**Generally, you should use meaningful variable names, e.g. `age` rather than `x`**"
      ]
    },
    {
      "cell_type": "code",
      "metadata": {
        "id": "KheDr_zDL9es"
      },
      "source": [
        "age = 18\n",
        "print(age, type(age))"
      ],
      "execution_count": null,
      "outputs": []
    },
    {
      "cell_type": "markdown",
      "metadata": {
        "id": "9CLW5pDTpKyQ"
      },
      "source": [
        "Now, you can refer to this value `age` again and again."
      ]
    },
    {
      "cell_type": "code",
      "metadata": {
        "id": "sk_8DFcuL9ey"
      },
      "source": [
        "print(age + 1)   # Addition\n",
        "print(age - 1)   # Subtraction\n",
        "print(age * 2)   # Multiplication\n",
        "print(age ** 2)  # Exponentiation"
      ],
      "execution_count": null,
      "outputs": []
    },
    {
      "cell_type": "markdown",
      "metadata": {
        "id": "vfkJDLa3pU7t"
      },
      "source": [
        "You can update `age` by simply assigning a new value to it.\n",
        "\n",
        "Tip: Avoid saying \"age equals age + 1\". Instead, say \"age is now the previous age + 1\". We'll cover how to check for equality (==) later."
      ]
    },
    {
      "cell_type": "code",
      "metadata": {
        "id": "U4Jl8K0tL9e4"
      },
      "source": [
        "age = age + 1\n",
        "print(age)\n",
        "# age += 1 is shorthard for age = age + 1\n",
        "age += 1\n",
        "print(age)\n",
        "# age *= 2 is shorthard for age = age * 2\n",
        "age *= 2\n",
        "print(age)"
      ],
      "execution_count": null,
      "outputs": []
    },
    {
      "cell_type": "markdown",
      "metadata": {
        "id": "EqRS7qhBL9fC"
      },
      "source": [
        "####Booleans"
      ]
    },
    {
      "cell_type": "markdown",
      "metadata": {
        "id": "qSeiWjRNiHjB"
      },
      "source": [
        "A **boolean** is a data type with only two possible values: `True` or `False`. Booleans are very useful for writing code depending on one case or another."
      ]
    },
    {
      "cell_type": "code",
      "metadata": {
        "id": "RvoImwgGL9fE"
      },
      "source": [
        "t, f = True, False\n",
        "print(type(t))"
      ],
      "execution_count": null,
      "outputs": []
    },
    {
      "cell_type": "markdown",
      "metadata": {
        "id": "YQgmQfOgL9fI"
      },
      "source": [
        "Python has built-in operations on booleans.\n",
        "\n",
        "* A **and** B = True if A is True *and* B is True, else False\n",
        "* A **or** B = True if A is True *or* B is True, else False\n",
        "* **not** A = Opposite of A\n",
        "\n"
      ]
    },
    {
      "cell_type": "code",
      "metadata": {
        "id": "6zYm7WzCL9fK"
      },
      "source": [
        "print(t and t, t and f, f and f)\n",
        "print(t or t, t or f, f or f)\n",
        "print(not t)"
      ],
      "execution_count": null,
      "outputs": []
    },
    {
      "cell_type": "markdown",
      "metadata": {
        "id": "gtHIt4cNo4_h"
      },
      "source": [
        "For example, you may be interested in whether a number \"is greater than 5\" **and** \"is even\"."
      ]
    },
    {
      "cell_type": "code",
      "metadata": {
        "id": "cZZyNkKT88-l"
      },
      "source": [
        "x = 30\n",
        "print(x > 5, x % 2 == 0)\n",
        "print(x > 5 and x % 2 == 0)\n",
        "x = 15\n",
        "print(x > 5, x % 2 == 0)\n",
        "x > 5 and x % 2 == 0"
      ],
      "execution_count": null,
      "outputs": []
    },
    {
      "cell_type": "markdown",
      "metadata": {
        "id": "rp5COGmklcMT"
      },
      "source": [
        "Python has built-in operations that evaluate to booleans.\n",
        "\n",
        "Operation | Meaning\n",
        "----------|---------\n",
        "A > B     | greater than\n",
        "A >= B    | greater than or equal to\n",
        "A == B    | equal to\n",
        "A != B    | not equal to\n",
        "\n",
        "Python processes these expressions into a `True` or `False` value."
      ]
    },
    {
      "cell_type": "code",
      "metadata": {
        "id": "RfB0qD4alsNX"
      },
      "source": [
        "print(5 > 5, 5 >= 5, 5 == 5, 5 != 5, 4 < 5)"
      ],
      "execution_count": null,
      "outputs": []
    },
    {
      "cell_type": "markdown",
      "metadata": {
        "id": "08ReyQGhos44"
      },
      "source": [
        "Now let's examine closely the difference between `=` (assignment) and `==` (equality)."
      ]
    },
    {
      "cell_type": "code",
      "metadata": {
        "id": "KUnfa26C90Op"
      },
      "source": [
        "# Purpose of =: (assign a variable)\n",
        "a = 5\n",
        "print(a)\n",
        "\n",
        "# Purpose of ==: compare two values --> bool\n",
        "b = 10\n",
        "print(a == b)"
      ],
      "execution_count": null,
      "outputs": []
    },
    {
      "cell_type": "markdown",
      "metadata": {
        "id": "UQnQWFEyL9fP"
      },
      "source": [
        "####Strings"
      ]
    },
    {
      "cell_type": "markdown",
      "metadata": {
        "id": "vIqz7LaKjdwN"
      },
      "source": [
        "A **string** is a data type that holds text."
      ]
    },
    {
      "cell_type": "code",
      "metadata": {
        "id": "AijEDtPFL9fP"
      },
      "source": [
        "hello = 'hello'   # String literals can use single quotes\n",
        "world = \"world\"   # or double quotes; it does not matter\n",
        "print(hello, world)"
      ],
      "execution_count": null,
      "outputs": []
    },
    {
      "cell_type": "markdown",
      "metadata": {
        "id": "u8Eqxi_-jslO"
      },
      "source": [
        "You can combine strings by using `+`."
      ]
    },
    {
      "cell_type": "code",
      "metadata": {
        "id": "saDeaA7hL9fT"
      },
      "source": [
        "hw = hello + ' ' + world  # String concatenation\n",
        "print(hw)"
      ],
      "execution_count": null,
      "outputs": []
    },
    {
      "cell_type": "code",
      "metadata": {
        "id": "xno4Uugu8p4b"
      },
      "source": [
        "\"hello\" + \"world\""
      ],
      "execution_count": null,
      "outputs": []
    },
    {
      "cell_type": "markdown",
      "metadata": {
        "id": "bUpl35bIL9fc"
      },
      "source": [
        "String objects have a bunch of useful methods; for example:"
      ]
    },
    {
      "cell_type": "code",
      "metadata": {
        "id": "VOxGatlsL9fd"
      },
      "source": [
        "s = \"hello\"\n",
        "print(len(s))          # Length of string\n",
        "print(s.capitalize())  # Capitalize a string\n",
        "print(s.upper())       # Convert a string to uppercase; prints \"HELLO\"\n",
        "print(s.replace('l', '(ell)'))  # Replace all instances of one substring with another\n",
        "print('  world '.strip())  # Strip leading and trailing whitespace"
      ],
      "execution_count": null,
      "outputs": []
    },
    {
      "cell_type": "markdown",
      "metadata": {
        "id": "06cayXLtL9fi"
      },
      "source": [
        "You can find a list of all string methods in the [documentation](https://docs.python.org/3.7/library/stdtypes.html#string-methods)."
      ]
    },
    {
      "cell_type": "markdown",
      "metadata": {
        "id": "ZAPpul_RmMDI"
      },
      "source": [
        "#### Further Concepts to Explore (See Appendix)\n",
        "\n",
        "* String formatting\n",
        "* Datetime objects"
      ]
    },
    {
      "cell_type": "markdown",
      "metadata": {
        "id": "FeBXQp-Gkok-"
      },
      "source": [
        "### Statements\n",
        "Now that we know about some basic data types, let's start processing them! Generally, these are done through \"statements\".\n",
        "\n",
        "You saw one earlier -- the assignment statement. (`age = 18`)"
      ]
    },
    {
      "cell_type": "markdown",
      "metadata": {
        "id": "woZTDCUGqL5O"
      },
      "source": [
        "#### If Statement\n",
        "\n",
        "Use an **if** statement to run code depending on a boolean value (see why booleans are important?)."
      ]
    },
    {
      "cell_type": "code",
      "metadata": {
        "id": "okgoKWL2trB0"
      },
      "source": [
        "registered = False\n",
        "age = 10\n",
        "if registered:\n",
        "  print('can vote')\n",
        "elif age >= 18:\n",
        "  print('can register to vote')\n",
        "else:\n",
        "  print('cannot vote')"
      ],
      "execution_count": null,
      "outputs": []
    },
    {
      "cell_type": "markdown",
      "metadata": {
        "id": "rTMsuFPfpLln"
      },
      "source": [
        "If the expression is not a boolean, it will be converted to one. For example, all integers are `True` *except for 0*."
      ]
    },
    {
      "cell_type": "code",
      "metadata": {
        "id": "Me6BC-wHtxT9"
      },
      "source": [
        "value = 10\n",
        "if value:\n",
        "  print(\"Not zero\")\n",
        "value = 0\n",
        "if value:\n",
        "  print(\"Not zero again\")"
      ],
      "execution_count": null,
      "outputs": []
    },
    {
      "cell_type": "markdown",
      "metadata": {
        "id": "AXA4jrEOL9hM"
      },
      "source": [
        "####Functions"
      ]
    },
    {
      "cell_type": "markdown",
      "metadata": {
        "id": "WaRms-QfL9hN"
      },
      "source": [
        "A **function** contains code that you can run at a later time.\n",
        "\n",
        "\n",
        "1. Start a function definition using the `def` keyword.\n",
        "1. Name your function. The name is important!!! You'll refer to the function by name.\n",
        "1. Declare what the inputs of the function are. These names can then be used inside the function's code.\n",
        "  - Optionally, you can declare the types of your input and return values.\n",
        "1. Write the code for the function (the function's **body**) indented within the `def`.\n",
        "1. If your function should produce a value, use the `return` keyword.\n",
        "  - `return` can be placed anywhere. After `return` is reached, no more code from the function is executed."
      ]
    },
    {
      "cell_type": "code",
      "metadata": {
        "id": "kiMDUr58L9hN"
      },
      "source": [
        "def sign(x: int) -> str:\n",
        "    if x > 0:\n",
        "        return 'positive'\n",
        "    elif x < 0:\n",
        "        return 'negative'\n",
        "    else:\n",
        "        return 'zero'\n",
        "\n",
        "print(sign(-1))\n",
        "print(sign(0))\n",
        "# You can use the value of the function.\n",
        "print(sign(1) + ' energy')\n",
        "# You can pass in any expression before it gets executed by the function.\n",
        "print(sign(1 - 400))\n",
        "\n",
        "print('hello') # -> hello\n",
        "'hello' # -> last line is displayed in raw form (not in human readable form)"
      ],
      "execution_count": null,
      "outputs": []
    },
    {
      "cell_type": "markdown",
      "metadata": {
        "id": "H2E6Ym5yuElG"
      },
      "source": [
        "[Python Tutor](http://pythontutor.com) by Philip Guo is a handy tool for visualizing your code.\n",
        "\n",
        "**Let's visualize what our program above is doing: [link to Python Tutor](http://pythontutor.com/visualize.html#code=x%20%3D%2010%0Adef%20sign%28x%29%3A%0A%20%20%20%20if%20x%20%3E%200%3A%0A%20%20%20%20%20%20%20%20return%20'positive'%0A%20%20%20%20elif%20x%20%3C%200%3A%0A%20%20%20%20%20%20%20%20return%20'negative'%0A%20%20%20%20else%3A%0A%20%20%20%20%20%20%20%20return%20'zero'%0A%0Aprint%28sign%28-1%29%29%0Aprint%28sign%280%29%29%0A%23%20You%20can%20use%20the%20value%20of%20the%20function.%0Aprint%28sign%281%29%20%2B%20'%20energy'%29%0A%23%20You%20can%20pass%20in%20any%20expression%20before%20it%20gets%20executed%20by%20the%20function.%0Asign%281%20-%20400%29&cumulative=false&curInstr=0&heapPrimitives=nevernest&mode=display&origin=opt-frontend.js&py=3&rawInputLstJSON=%5B%5D&textReferences=false)**"
      ]
    },
    {
      "cell_type": "markdown",
      "metadata": {
        "id": "U-QJFt8TL9hR"
      },
      "source": [
        "You can declare some arguments as optional and provide a default value."
      ]
    },
    {
      "cell_type": "code",
      "metadata": {
        "id": "PfsZ3DazL9hR"
      },
      "source": [
        "def hello(name: str, loud: bool=False):\n",
        "    if loud:\n",
        "        print('Hello ' + name.upper())\n",
        "    else:\n",
        "        print('Hello ' + name)\n",
        "\n",
        "hello('Bob')\n",
        "hello('Fred', loud=True)"
      ],
      "execution_count": null,
      "outputs": []
    },
    {
      "cell_type": "markdown",
      "metadata": {
        "id": "NkDmp_IzytLZ"
      },
      "source": [
        "##### Exercises for Functions\n",
        "\n",
        "1. Define a function that returns whether a number is even.\n",
        "1. Define a `check_password` function.\n",
        "    1. Print `password too short` if the given password is less than 6 characters.\n",
        "    1. Check that the password is not `123`."
      ]
    },
    {
      "cell_type": "markdown",
      "metadata": {
        "id": "t0XIAZTzpoqX"
      },
      "source": [
        "###### Answers to Exercises for Functions"
      ]
    },
    {
      "cell_type": "code",
      "metadata": {
        "id": "SwoKQSigADjJ"
      },
      "source": [
        "def is_even(x):\n",
        "  \"\"\"\n",
        "  Returns whether x is even.\n",
        "  \"\"\"\n",
        "  return x % 2 == 0\n",
        "\n",
        "print(adjust_by_divisibility(2))\n",
        "print(adjust_by_divisibility(3))\n",
        "\n",
        "def check_password(password):\n",
        "  if len(password) < 6:\n",
        "    print('password too short')\n",
        "  if password == '123':\n",
        "    print('123 is not a good password')"
      ],
      "execution_count": null,
      "outputs": []
    },
    {
      "cell_type": "markdown",
      "metadata": {
        "id": "ERhvicxLu3Og"
      },
      "source": [
        "### Other statements/concepts\n",
        "\n",
        "* Loops: `for` (coming up), `while` (not covered)\n",
        "* Ternary expressions (not covered, e.g. `'healthy' if exercises else 'unhealthy`)\n",
        "* try (not covered)\n",
        "* class (not covered)"
      ]
    },
    {
      "cell_type": "markdown",
      "metadata": {
        "id": "p-6hClFjL9fk"
      },
      "source": [
        "###Containers"
      ]
    },
    {
      "cell_type": "markdown",
      "metadata": {
        "id": "FD9H18eQL9fk"
      },
      "source": [
        "Python includes several built-in container types. We'll cover lists and dictionaries.\n",
        "\n",
        "Unlike basic types, containers are generally **mutable**, which means you can change its contents at any time."
      ]
    },
    {
      "cell_type": "markdown",
      "metadata": {
        "id": "UsIWOe0LL9fn"
      },
      "source": [
        "####Lists"
      ]
    },
    {
      "cell_type": "markdown",
      "metadata": {
        "id": "wzxX7rgWL9fn"
      },
      "source": [
        "A **list** contains a number of objects (its *elements*) in order. You can add to it, remove from it, get elements, and change its elements.\n",
        "\n",
        "These objects can be of different types, but **this is generally a bad idea**.\n",
        "\n",
        "In other programming languages, these are known as **arrays**.\n",
        "\n",
        "Visualize what a list looks like in [Python Tutor](http://pythontutor.com/visualize.html#code=my_list%20%3D%20%5B1,%202,%203%5D%0Aprint%28my_list%5B0%5D%29%0Amy_list%5B2%5D%20%3D%204%0Amy_list.append%285%29%0Aval%20%3D%20my_list.pop%281%29&cumulative=false&curInstr=0&heapPrimitives=nevernest&mode=display&origin=opt-frontend.js&py=3&rawInputLstJSON=%5B%5D&textReferences=false)."
      ]
    },
    {
      "cell_type": "code",
      "metadata": {
        "id": "hk3A8pPcL9fp"
      },
      "source": [
        "xs = [3, 1, 2]   # Create a list"
      ],
      "execution_count": null,
      "outputs": []
    },
    {
      "cell_type": "markdown",
      "metadata": {
        "id": "TUg9PKaFs3rq"
      },
      "source": [
        "Access elements from your list by using `[index]`. The index starts from 0. For example, to get the 3 from `xs`, say `xs[0]`."
      ]
    },
    {
      "cell_type": "code",
      "metadata": {
        "id": "aDVwXyxftB4M"
      },
      "source": [
        "print(xs[0], xs[2])"
      ],
      "execution_count": null,
      "outputs": []
    },
    {
      "cell_type": "markdown",
      "metadata": {
        "id": "Ryh0aGnltJ7_"
      },
      "source": [
        "Be careful not to get an element from a position that does not exist!"
      ]
    },
    {
      "cell_type": "code",
      "metadata": {
        "id": "kip3aFYQtP_b"
      },
      "source": [
        "print(xs[5])"
      ],
      "execution_count": null,
      "outputs": []
    },
    {
      "cell_type": "markdown",
      "metadata": {
        "id": "mSjNdPLTth73"
      },
      "source": [
        "What happens when you assign a list to another variable? The list **is NOT copied**. Instead, the other variable will refer to the same list."
      ]
    },
    {
      "cell_type": "code",
      "metadata": {
        "id": "q8Jx9HwcttvL"
      },
      "source": [
        "ys = xs\n",
        "print(xs, ys)"
      ],
      "execution_count": null,
      "outputs": []
    },
    {
      "cell_type": "markdown",
      "metadata": {
        "id": "ncP0FX29tUCt"
      },
      "source": [
        "You can modify the list at a specific position. Notice how `y` changes as well."
      ]
    },
    {
      "cell_type": "code",
      "metadata": {
        "id": "npoDujfMtYBG"
      },
      "source": [
        "xs[0] = 5\n",
        "print(xs)\n",
        "print(ys)"
      ],
      "execution_count": null,
      "outputs": []
    },
    {
      "cell_type": "markdown",
      "metadata": {
        "id": "UG84X56It2pN"
      },
      "source": [
        "You can add to the end of the list using `.append()`."
      ]
    },
    {
      "cell_type": "code",
      "metadata": {
        "id": "vJ0x5cF-L9fx"
      },
      "source": [
        "xs.append(4) # Add a new element to the end of the list.\n",
        "print(xs)  "
      ],
      "execution_count": null,
      "outputs": []
    },
    {
      "cell_type": "markdown",
      "metadata": {
        "id": "itJlT8k9t9On"
      },
      "source": [
        "You can remove fromm the list by using `.pop()`."
      ]
    },
    {
      "cell_type": "code",
      "metadata": {
        "id": "cxVCNRTNL9f1"
      },
      "source": [
        "x = xs.pop()     # Remove and return the last element of the list.\n",
        "print(x, xs)\n",
        "y = ys.pop(0)\n",
        "print(xs, ys, y)"
      ],
      "execution_count": null,
      "outputs": []
    },
    {
      "cell_type": "markdown",
      "metadata": {
        "id": "ilyoyO34L9f4"
      },
      "source": [
        "As usual, you can find all the gory details about lists in the [documentation](https://docs.python.org/3.7/tutorial/datastructures.html#more-on-lists)."
      ]
    },
    {
      "cell_type": "markdown",
      "metadata": {
        "id": "7-UcF61Rzt7N"
      },
      "source": [
        "#### The in Keyword"
      ]
    },
    {
      "cell_type": "markdown",
      "metadata": {
        "id": "Ye9_vTCkzzP-"
      },
      "source": [
        "You can check whether an element exists in your list using `in`."
      ]
    },
    {
      "cell_type": "code",
      "metadata": {
        "id": "Zup4qvsGz4BI"
      },
      "source": [
        "my_list = [1, 2, 3]\n",
        "print(4 in my_list)"
      ],
      "execution_count": null,
      "outputs": []
    },
    {
      "cell_type": "markdown",
      "metadata": {
        "id": "h_BR6ZRSz3c6"
      },
      "source": [
        "This `in` keyword works for any sequence-like value, not just for lists. For example, you can check whether a certain character appears in a string."
      ]
    },
    {
      "cell_type": "code",
      "metadata": {
        "id": "-mfBUj9w0Fdd"
      },
      "source": [
        "print('a' in 'hello world', 'h' in 'hello world')"
      ],
      "execution_count": null,
      "outputs": []
    },
    {
      "cell_type": "markdown",
      "metadata": {
        "id": "ovahhxd_L9f5"
      },
      "source": [
        "####Slicing"
      ]
    },
    {
      "cell_type": "markdown",
      "metadata": {
        "id": "YeSYKhv9L9f6"
      },
      "source": [
        "In addition to accessing list elements one at a time, Python provides concise syntax to access sublists; this is known as slicing:\n",
        "\n",
        "**Slicing creates a copy of the original list**. However, it does not create copies of the elements.\n"
      ]
    },
    {
      "cell_type": "code",
      "metadata": {
        "id": "ninq666bL9f6"
      },
      "source": [
        "nums = list(range(5))    # range is a built-in function that creates a list of integers\n",
        "print(nums)         # Prints \"[0, 1, 2, 3, 4]\"\n",
        "print(nums[2:4])    # Get a slice from index 2 to 4 (exclusive); prints \"[2, 3]\"\n",
        "print(nums[2:])     # Get a slice from index 2 to the end; prints \"[2, 3, 4]\"\n",
        "print(nums[:2])     # Get a slice from the start to index 2 (exclusive); prints \"[0, 1]\"\n",
        "print(nums[:])      # Get a slice of the whole list; prints [\"0, 1, 2, 3, 4]\"\n",
        "print(nums[:-1])    # Slice indices can be negative; prints [\"0, 1, 2, 3]\"\n",
        "nums[2:4] = [8, 9] # Assign a new sublist to a slice\n",
        "print(nums)         # Prints \"[0, 1, 8, 9, 4]\""
      ],
      "execution_count": null,
      "outputs": []
    },
    {
      "cell_type": "markdown",
      "metadata": {
        "id": "UONpMhF4L9f_"
      },
      "source": [
        "####Loops (for statements)"
      ]
    },
    {
      "cell_type": "markdown",
      "metadata": {
        "id": "_DYz1j6QL9f_"
      },
      "source": [
        "You can loop over the elements of a list like this:\n",
        "\n",
        "The syntax is:\n",
        "```\n",
        "for <variable> in <list>:\n",
        "```"
      ]
    },
    {
      "cell_type": "code",
      "metadata": {
        "id": "4cCOysfWL9gA"
      },
      "source": [
        "animals = ['cat', 'dog', 'fish']\n",
        "for animal in animals:\n",
        "    print(animal + ' owner')"
      ],
      "execution_count": null,
      "outputs": []
    },
    {
      "cell_type": "markdown",
      "metadata": {
        "id": "KxIaQs7pL9gE"
      },
      "source": [
        "If you want access to the index of each element within the body of a loop, use the built-in `enumerate` function:"
      ]
    },
    {
      "cell_type": "code",
      "metadata": {
        "id": "JjGnDluWL9gF"
      },
      "source": [
        "animals = ['cat', 'dog', 'fish']\n",
        "for idx, animal in enumerate(animals):\n",
        "    print('#{}: {}'.format(idx + 1, animal))"
      ],
      "execution_count": null,
      "outputs": []
    },
    {
      "cell_type": "markdown",
      "metadata": {
        "id": "3cfrOV4dL9hW"
      },
      "source": [
        "##Numpy"
      ]
    },
    {
      "cell_type": "markdown",
      "metadata": {
        "id": "fY12nHhyL9hX"
      },
      "source": [
        "Numpy is the core library for scientific computing in Python. It provides a high-performance `np.array` object and tools for working with these arrays, such as a [library of mathematical functions](https://numpy.org/doc/stable/reference/routines.math.html)."
      ]
    },
    {
      "cell_type": "markdown",
      "metadata": {
        "id": "lZMyAdqhL9hY"
      },
      "source": [
        "To use Numpy, we first need to import the `numpy` package:"
      ]
    },
    {
      "cell_type": "code",
      "metadata": {
        "id": "58QdX8BLL9hZ"
      },
      "source": [
        "import numpy as np"
      ],
      "execution_count": null,
      "outputs": []
    },
    {
      "cell_type": "markdown",
      "metadata": {
        "id": "DDx6v1EdL9hb"
      },
      "source": [
        "###Arrays"
      ]
    },
    {
      "cell_type": "markdown",
      "metadata": {
        "id": "f-Zv3f7LL9hc"
      },
      "source": [
        "A numpy array is like a Python list, except with more structure and performance. Recall that Python lists can contain anything. Meanwhile, numpy arrays generally have the same type of data.\n",
        "\n",
        "Numpy arrays can actually represent matrices, but we'll focus on one-dimensional (1D) arrays for now."
      ]
    },
    {
      "cell_type": "markdown",
      "metadata": {
        "id": "_eMTRnZRL9hc"
      },
      "source": [
        "We can initialize numpy arrays from nested Python lists, and access elements using square brackets:"
      ]
    },
    {
      "cell_type": "code",
      "metadata": {
        "id": "-l3JrGxCL9hc"
      },
      "source": [
        "a = np.array([1, 2, 3])\n",
        "print(type(a), a[0], a[1], a[2])\n",
        "a[0] = 5                 \n",
        "print(a)                  "
      ],
      "execution_count": null,
      "outputs": []
    },
    {
      "cell_type": "markdown",
      "metadata": {
        "id": "F2qwdyvuL9hn"
      },
      "source": [
        "Numpy also provides many functions to create arrays:"
      ]
    },
    {
      "cell_type": "code",
      "metadata": {
        "id": "mVTN_EBqL9hn"
      },
      "source": [
        "a = np.zeros(2)  # Create an array of all zeros of length 2\n",
        "print(a)"
      ],
      "execution_count": null,
      "outputs": []
    },
    {
      "cell_type": "code",
      "metadata": {
        "id": "skiKlNmlL9h5"
      },
      "source": [
        "b = np.ones(2)   # Create an array of all ones of length 2\n",
        "print(b)"
      ],
      "execution_count": null,
      "outputs": []
    },
    {
      "cell_type": "code",
      "metadata": {
        "id": "VauuJSZhfhy2"
      },
      "source": [
        "c = np.arange(0, 3, 0.1) # Create an array of range 0 to 2.9 (end at 3 but don't include it).\n",
        "print(c)\n",
        "d = np.arange(10)\n",
        "print(d)\n",
        "f = np.arange(1, 10)\n",
        "print(f)"
      ],
      "execution_count": null,
      "outputs": []
    },
    {
      "cell_type": "code",
      "metadata": {
        "id": "RCpaYg9qL9iA"
      },
      "source": [
        "e = np.random.random(2) # Create an array filled with random values\n",
        "print(e)\n",
        "g = np.random.random(10) * 10\n",
        "print(g)"
      ],
      "execution_count": null,
      "outputs": []
    },
    {
      "cell_type": "markdown",
      "metadata": {
        "id": "TuB-fdhIL9ik"
      },
      "source": [
        "###Array math"
      ]
    },
    {
      "cell_type": "markdown",
      "metadata": {
        "id": "18e8V8elL9ik"
      },
      "source": [
        "You can directly apply an operation that affects every element in a Numpy array. Numpy offers a variety of [mathematical functions](https://numpy.org/doc/stable/reference/routines.math.html), such as `round`, `sin`, `log`."
      ]
    },
    {
      "cell_type": "code",
      "metadata": {
        "id": "gHKvBrSKL9il"
      },
      "source": [
        "x = np.arange(0, 2, 0.2)\n",
        "y = x * 10\n",
        "z = np.round(x)\n",
        "\n",
        "print(x)\n",
        "print(y)\n",
        "print(z)\n",
        "z"
      ],
      "execution_count": null,
      "outputs": []
    },
    {
      "cell_type": "markdown",
      "metadata": {
        "id": "tEINf4bEL9jR"
      },
      "source": [
        "##Matplotlib"
      ]
    },
    {
      "cell_type": "markdown",
      "metadata": {
        "id": "0hgVWLaXL9jR"
      },
      "source": [
        "Matplotlib is a plotting library. In this section give a brief introduction to the `matplotlib.pyplot` module, which provides a plotting system similar to that of MATLAB."
      ]
    },
    {
      "cell_type": "code",
      "metadata": {
        "id": "cmh_7c6KL9jR"
      },
      "source": [
        "import matplotlib.pyplot as plt"
      ],
      "execution_count": null,
      "outputs": []
    },
    {
      "cell_type": "markdown",
      "metadata": {
        "id": "jOsaA5hGL9jS"
      },
      "source": [
        "By running this special iPython command, we will be displaying plots inline:"
      ]
    },
    {
      "cell_type": "code",
      "metadata": {
        "id": "ijpsmwGnL9jT"
      },
      "source": [
        "%matplotlib inline"
      ],
      "execution_count": null,
      "outputs": []
    },
    {
      "cell_type": "markdown",
      "metadata": {
        "id": "U5Z_oMoLL9jV"
      },
      "source": [
        "###Plotting"
      ]
    },
    {
      "cell_type": "markdown",
      "metadata": {
        "id": "6QyFJ7dhL9jV"
      },
      "source": [
        "The most important function in `matplotlib` is plot, which allows you to plot 2D data. Here is a simple example:"
      ]
    },
    {
      "cell_type": "code",
      "metadata": {
        "id": "pua52BGeL9jW"
      },
      "source": [
        "# Compute the x and y coordinates for points on a sine curve\n",
        "x = np.arange(0, 3 * np.pi, 0.1)\n",
        "y = np.sin(x)\n",
        "\n",
        "# Plot the points using matplotlib\n",
        "plt.plot(x, y)"
      ],
      "execution_count": null,
      "outputs": []
    },
    {
      "cell_type": "code",
      "metadata": {
        "id": "g_tURJVKDKUL"
      },
      "source": [
        "# How do I plot y = 2x + 1?\n",
        "x = np.arange(0, 100)\n",
        "y = 2*x + 1\n",
        "z = 0.5 * x + 1\n",
        "plt.plot(x, y)\n",
        "plt.plot(x, z)"
      ],
      "execution_count": null,
      "outputs": []
    },
    {
      "cell_type": "markdown",
      "metadata": {
        "id": "9W2VAcLiL9jX"
      },
      "source": [
        "With just a little bit of extra work we can easily plot multiple lines at once, and add a title, legend, and axis labels:"
      ]
    },
    {
      "cell_type": "code",
      "metadata": {
        "id": "TfCQHJ5AL9jY"
      },
      "source": [
        "x = np.arange(0, 3 * np.pi, 0.1)\n",
        "y_sin = np.sin(x)\n",
        "y_cos = np.cos(x)\n",
        "\n",
        "# Plot the points using matplotlib\n",
        "plt.plot(x, y_sin)\n",
        "plt.plot(x, y_cos)\n",
        "plt.xlabel('x axis label')\n",
        "plt.ylabel('y axis label')\n",
        "plt.title('Sine and Cosine')\n",
        "plt.legend(['Sine', 'Cosine'])"
      ],
      "execution_count": null,
      "outputs": []
    },
    {
      "cell_type": "code",
      "metadata": {
        "id": "_Vq-tQGnDs_J"
      },
      "source": [
        "y_transformed = 5 * np.sin(x) + 2\n",
        "plt.plot(x, y_sin)\n",
        "plt.plot(x, y_transformed)"
      ],
      "execution_count": null,
      "outputs": []
    },
    {
      "cell_type": "markdown",
      "metadata": {
        "id": "Odhtyw6Qv_F-"
      },
      "source": [
        "Matplotlib supports other types of visualizations, like histograms."
      ]
    },
    {
      "cell_type": "code",
      "metadata": {
        "id": "Fhb2f7uewD4M"
      },
      "source": [
        "# Generate a normal distribution\n",
        "x = np.random.random(100000)\n",
        "\n",
        "# We can set the number of bins with the `bins` kwarg\n",
        "plt.hist(x, bins=20)"
      ],
      "execution_count": null,
      "outputs": []
    },
    {
      "cell_type": "markdown",
      "metadata": {
        "id": "R5IeAY03L9ja"
      },
      "source": [
        "###Subplots "
      ]
    },
    {
      "cell_type": "markdown",
      "metadata": {
        "id": "CfUzwJg0L9ja"
      },
      "source": [
        "You can plot different things in the same figure using the subplot function. Here is an example:"
      ]
    },
    {
      "cell_type": "code",
      "metadata": {
        "id": "dM23yGH9L9ja"
      },
      "source": [
        "# Compute the x and y coordinates for points on sine and cosine curves\n",
        "x = np.arange(0, 3 * np.pi, 0.1)\n",
        "y_sin = np.sin(x)\n",
        "y_cos = np.cos(x)\n",
        "\n",
        "# Set up a subplot grid that has height 2 and width 1,\n",
        "# and set the first such subplot as active.\n",
        "plt.subplot(2, 1, 1)\n",
        "\n",
        "# Make the first plot\n",
        "plt.plot(x, y_sin)\n",
        "plt.title('Sine')\n",
        "\n",
        "# Set the second subplot as active, and make the second plot.\n",
        "plt.subplot(2, 1, 2)\n",
        "plt.plot(x, y_cos)\n",
        "plt.title('Cosine')\n",
        "\n",
        "# Show the figure.\n",
        "plt.show()"
      ],
      "execution_count": null,
      "outputs": []
    },
    {
      "cell_type": "markdown",
      "metadata": {
        "id": "gLtsST5SL9jc"
      },
      "source": [
        "You can read much more about the `subplot` function in the [documentation](http://matplotlib.org/api/pyplot_api.html#matplotlib.pyplot.subplot)."
      ]
    },
    {
      "cell_type": "markdown",
      "metadata": {
        "id": "C9_nS0pnvNlX"
      },
      "source": [
        "## Conclusion\n",
        "\n",
        "There's so much about programming to cover that it's impossible to fit everything here.\n",
        "\n",
        "**This tutorial has a [Part 2](https://colab.research.google.com/drive/1ehEEdCoHyAtPvxtfgxMCt64DSy_AoCq7#scrollTo=LEndr0vixqUg).** Check it out for more Python fun!\n",
        "\n",
        "Check out more types of Computer Science sessions at [schoolhouse.world](https://schoolhouse.world/topic/187).\n",
        "\n",
        "**Do not let differences in programming languages scare you.** Most people are capable of picking up language quickly.\n",
        "\n",
        "Additional concepts in CS:\n",
        "* Programming methodology\n",
        "* Recursion\n",
        "* Abstract data types/classes\n",
        "* Data structures\n",
        "* Algorithms/runtime\n",
        "* Cloud computing\n",
        "* Computer architecture\n",
        "* Operating systems\n",
        "* Databases\n",
        "* ..."
      ]
    },
    {
      "cell_type": "markdown",
      "metadata": {
        "id": "To-MqybUzSVd"
      },
      "source": [
        "## Appendix"
      ]
    },
    {
      "cell_type": "markdown",
      "metadata": {
        "id": "arrLCcMyL9gK"
      },
      "source": [
        "#### String Formatting"
      ]
    },
    {
      "cell_type": "markdown",
      "metadata": {
        "id": "5Qn2jU_pL9gL"
      },
      "source": [
        "Combining strings using `+` is error prone. You end up with expressions like \n",
        "```\n",
        "my_var + ' ' + other_var + ': ' + file_name\n",
        "```\n",
        "Instead, you can format a string. Python's pattern for string formatting is:\n",
        "```\n",
        "\"<your string pattern>\".format(var1, var2)\n",
        "```\n",
        "For example, the messy example above can now be expressed as.\n",
        "```\n",
        "\"{0} {1}: {2}\".format(my_var, other_var, file_name)\n",
        "```"
      ]
    },
    {
      "cell_type": "code",
      "metadata": {
        "id": "IVNEwoMXL9gL"
      },
      "source": [
        "my_folder = \"~/Downloads\"\n",
        "my_file = \"intro_to_python.txt\"\n",
        "print(\"{0}/{1}\".format(my_folder, my_file))"
      ],
      "execution_count": null,
      "outputs": []
    }
  ]
}